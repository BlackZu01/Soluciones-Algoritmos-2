{
  "nbformat": 4,
  "nbformat_minor": 0,
  "metadata": {
    "colab": {
      "name": "Semana7.ipynb",
      "provenance": [],
      "collapsed_sections": [],
      "authorship_tag": "ABX9TyMKWiRkD0xikWWJZstftRxY",
      "include_colab_link": true
    },
    "kernelspec": {
      "name": "python3",
      "display_name": "Python 3"
    }
  },
  "cells": [
    {
      "cell_type": "markdown",
      "metadata": {
        "id": "view-in-github",
        "colab_type": "text"
      },
      "source": [
        "<a href=\"https://colab.research.google.com/github/BlackZu01/Soluciones-Algoritmos-2/blob/main/Semana7.ipynb\" target=\"_parent\"><img src=\"https://colab.research.google.com/assets/colab-badge.svg\" alt=\"Open In Colab\"/></a>"
      ]
    },
    {
      "cell_type": "code",
      "metadata": {
        "colab": {
          "base_uri": "https://localhost:8080/"
        },
        "id": "kaykQ-AkpOma",
        "outputId": "2a276cee-6153-421f-cadf-279ef514d271"
      },
      "source": [
        "%%writefile test.java\n",
        "import java.util.Scanner;\n",
        "class test{\n",
        "    public static void main(String[] args){\n",
        "        String texto = \"abc\"; // cadena de caracteres\n",
        "        System.out.println(texto.length());\n",
        "        String texto_largo = \"La entrada \"+\"tiene\"+\" un numero de caracteres \"+texto;\n",
        "        System.out.println(texto_largo);\n",
        "        //String con chars\n",
        "        System.out.println(texto.charAt(1));\n",
        "        //Substrings\n",
        "        int numero = 12345;\n",
        "        String texto1 = \"hello\";\n",
        "        System.out.println(numero);\n",
        "        String ejemplo= Integer.toString(numero);  \n",
        "        System.out.println(ejemplo.substring(0,3)); // [0,n) -> desde 0 hasta n-1\n",
        "        for (int i = 0;i < texto1.length();i++){\n",
        "            System.out.println(\"El numero en la posicion \"+i+ \" es: \"+texto1.substring(i,i+1));\n",
        "        }\n",
        "        System.out.println(\"El texto en la posicion numero 5 es\"+texto1.substring(5));\n",
        "        System.out.println(\" \");\n",
        "        System.out.println(texto1.substring(5) ==\"\");\n",
        "        System.out.println(texto1.substring(5).equals(\"\"));\n",
        "        int i = 0;\n",
        "        boolean afirmacion = true;\n",
        "        int cont = 0;\n",
        "        System.out.println(\" \");\n",
        "        //Calculo de la longitud de texto1\n",
        "        while (afirmacion) {\n",
        "            if (afirmacion == texto1.substring(i+1).equals(\"\")) {\n",
        "                afirmacion = false;\n",
        "            } else {\n",
        "                cont ++;\n",
        "                i++;                \n",
        "            }\n",
        "        }\n",
        "        System.out.println(\"La longitud de la palabra \" +texto1+ \" es \" +cont); //Impresion de la longitud de texo1\n",
        "\n",
        "        int j = 0;\n",
        "        while (cont >= 0){ // ARREGLAR ESTA PARTE (ARREGLADO)\n",
        "            System.out.println(\"El número en la posicion \"+j+ \" es: \"+texto1.substring(j,j+1));\n",
        "            j++;\n",
        "            cont --;\n",
        "        }\n",
        "    }\n",
        "}"
      ],
      "execution_count": 5,
      "outputs": [
        {
          "output_type": "stream",
          "text": [
            "Overwriting test.java\n"
          ],
          "name": "stdout"
        }
      ]
    },
    {
      "cell_type": "code",
      "metadata": {
        "colab": {
          "base_uri": "https://localhost:8080/"
        },
        "id": "2dm3TZEcpT-s",
        "outputId": "79bf35d8-f050-4ae7-f046-13ae416652fa"
      },
      "source": [
        "!java test.java"
      ],
      "execution_count": 6,
      "outputs": [
        {
          "output_type": "stream",
          "text": [
            "3\n",
            "La entrada tiene un numero de caracteres abc\n",
            "b\n",
            "12345\n",
            "123\n",
            "El numero en la posicion 0 es: h\n",
            "El numero en la posicion 1 es: e\n",
            "El numero en la posicion 2 es: l\n",
            "El numero en la posicion 3 es: l\n",
            "El numero en la posicion 4 es: o\n",
            "El texto en la posicion numero 5 es\n",
            " \n",
            "false\n",
            "true\n",
            " \n",
            "La longitud de la palabra hello es 4\n",
            "El número en la posicion 0 es: h\n",
            "El número en la posicion 1 es: e\n",
            "El número en la posicion 2 es: l\n",
            "El número en la posicion 3 es: l\n",
            "El número en la posicion 4 es: o\n"
          ],
          "name": "stdout"
        }
      ]
    }
  ]
}